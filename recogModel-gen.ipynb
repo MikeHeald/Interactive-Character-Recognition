{
 "cells": [
  {
   "cell_type": "code",
   "execution_count": 3,
   "metadata": {},
   "outputs": [],
   "source": [
    "import tensorflow as tf\n",
    "import random\n",
    "from PIL import Image, ImageDraw, ImageFont, ImageFilter\n",
    "import numpy as np\n",
    "import os\n",
    "import glob\n",
    "from IPython.display import clear_output\n",
    "\n",
    "import matplotlib\n",
    "import matplotlib.pyplot as plt\n",
    "%matplotlib inline"
   ]
  },
  {
   "cell_type": "code",
   "execution_count": 8,
   "metadata": {},
   "outputs": [],
   "source": [
    "def createModel():\n",
    "    model = tf.keras.Sequential()\n",
    "\n",
    "    #32x32x1\n",
    "    model.add(tf.keras.layers.Conv2D(kernel_size = (3,3), filters = 8, activation = 'relu', input_shape=(32,32,1)))\n",
    "\n",
    "    model.add(tf.keras.layers.MaxPool2D(pool_size=(2,2), strides=(1)))\n",
    "\n",
    "    #16x16x8\n",
    "    model.add(tf.keras.layers.Conv2D(kernel_size = (3,3), filters = 16, activation = 'relu'))\n",
    "\n",
    "    model.add(tf.keras.layers.MaxPool2D(pool_size=(2,2), strides=(1)))\n",
    "\n",
    "    #8x8x16\n",
    "    model.add(tf.keras.layers.Conv2D(kernel_size = (3,3), filters = 32, activation = 'relu'))\n",
    "\n",
    "    model.add(tf.keras.layers.MaxPool2D(pool_size=(2,2), strides=(1)))\n",
    "    \n",
    "    #4x4x32\n",
    "    model.add(tf.keras.layers.Conv2D(kernel_size = (3,3), filters = 32, activation = 'relu'))\n",
    "\n",
    "    model.add(tf.keras.layers.MaxPool2D(pool_size=(2,2), strides=(1)))\n",
    "    \n",
    "    #2x2x32\n",
    "    model.add(tf.keras.layers.Conv2D(kernel_size = (3,3), filters = 32, activation = 'relu'))\n",
    "\n",
    "    model.add(tf.keras.layers.MaxPool2D(pool_size=(2,2), strides=(1)))\n",
    "    \n",
    "    #1x1x32\n",
    "    #flatten\n",
    "    model.add(tf.keras.layers.Flatten())\n",
    "    \n",
    "    #classify\n",
    "    model.add(tf.keras.layers.Dense(64, activation='relu'))\n",
    "    model.add(tf.keras.layers.Dense(62, activation='softmax'))\n",
    "\n",
    "    model.compile(loss='categorical_crossentropy', optimizer='adadelta', metrics=['accuracy'])\n",
    "\n",
    "    return model"
   ]
  },
  {
   "cell_type": "code",
   "execution_count": 9,
   "metadata": {},
   "outputs": [],
   "source": [
    "model = createModel()"
   ]
  },
  {
   "cell_type": "code",
   "execution_count": 10,
   "metadata": {},
   "outputs": [
    {
     "name": "stdout",
     "output_type": "stream",
     "text": [
      "40\n",
      "Epoch 1/1\n",
      "2000/2000 [==============================] - 1s 397us/step - loss: 1.2571 - acc: 0.6170\n",
      "Epoch 1/1\n",
      "2000/2000 [==============================] - 1s 395us/step - loss: 1.2449 - acc: 0.6035\n",
      "Epoch 1/1\n",
      "2000/2000 [==============================] - 1s 397us/step - loss: 1.2086 - acc: 0.6125\n",
      "Epoch 1/1\n",
      "2000/2000 [==============================] - 1s 393us/step - loss: 1.1574 - acc: 0.6225\n",
      "Epoch 1/1\n",
      "2000/2000 [==============================] - 1s 400us/step - loss: 1.2241 - acc: 0.6175\n",
      "Epoch 1/1\n",
      "2000/2000 [==============================] - 1s 393us/step - loss: 1.1320 - acc: 0.6395\n",
      "Epoch 1/1\n",
      "2000/2000 [==============================] - 1s 417us/step - loss: 1.2025 - acc: 0.6200\n",
      "Epoch 1/1\n",
      "2000/2000 [==============================] - 1s 417us/step - loss: 1.1432 - acc: 0.6410\n",
      "Epoch 1/1\n",
      "2000/2000 [==============================] - 1s 412us/step - loss: 1.1883 - acc: 0.6135\n"
     ]
    }
   ],
   "source": [
    "font_files = []\n",
    "font_files.extend(glob.glob('fonts/*/*'))\n",
    "\n",
    "gblur = ImageFilter.GaussianBlur(radius=1)\n",
    "\n",
    "char_values = 'ABCDEFGHIJKLMNOPQRSTUVWXYZabcdefghijklmnopqrstuvwxyz0123456789'\n",
    "\n",
    "#train 50 batches\n",
    "for bat in range(50):\n",
    "    train_samples = []\n",
    "    train_labels = []\n",
    "\n",
    "    #generate 2000 random images\n",
    "    for _ in range(2000):\n",
    "        #select random character\n",
    "        charIndex = random.randint(0,len(char_values)-1)\n",
    "        #random font and size\n",
    "        font = ImageFont.truetype(font_files[random.randint(0,len(font_files)-1)], random.randint(20,34))\n",
    "        #new b/w image 32x32 pixels\n",
    "        img = Image.new('1', (32, 32))\n",
    "        draw = ImageDraw.Draw(img)\n",
    "        #draw at random position\n",
    "        draw.text((random.randint(0,10), random.randint(-5,2)), char_values[charIndex], font=font, fill=(255))\n",
    "        #random rotation\n",
    "        img = img.rotate(random.randint(-10,10))\n",
    "        #randomly apply to smoothing\n",
    "        if random.random() < 0.25:\n",
    "            img = img.filter(ImageFilter.SMOOTH)\n",
    "            \n",
    "        #convert image to numpy array\n",
    "        np_img = np.expand_dims(np.array(img),axis=2)\n",
    "        train_samples.append(np_img)\n",
    "        train_labels.append(np.eye(62)[charIndex])\n",
    "\n",
    "    train_samples = np.stack(train_samples)\n",
    "    train_labels = np.stack(train_labels)\n",
    "\n",
    "    model.fit(train_samples, train_labels, epochs=1, batch_size=32, shuffle=True)\n",
    "    #clear output every 10 batches\n",
    "    if bat % 10 == 0:\n",
    "        clear_output()\n",
    "        print(bat)\n",
    "        "
   ]
  },
  {
   "cell_type": "code",
   "execution_count": null,
   "metadata": {},
   "outputs": [],
   "source": [
    "model.save('imagerecog.model')"
   ]
  },
  {
   "cell_type": "code",
   "execution_count": 60,
   "metadata": {},
   "outputs": [],
   "source": [
    "char_values = 'ABCDEFGHIJKLMNOPQRSTUVWXYZabcdefghijklmnopqrstuvwxyz0123456789'\n",
    "font_files = []\n",
    "font_files.extend(glob.glob('fonts/*/*'))\n",
    "\n",
    "charIndex = random.randint(0,len(char_values)-1)\n",
    "#random font and size\n",
    "font = ImageFont.truetype(font_files[random.randint(0,len(font_files)-1)], random.randint(20,34))\n",
    "#new b/w image 32x32 pixels\n",
    "img = Image.new('1', (32, 32))\n",
    "draw = ImageDraw.Draw(img)\n",
    "#draw at random position\n",
    "draw.text((random.randint(0,10), random.randint(-5,2)), char_values[charIndex], font=font, fill=(255))\n",
    "#random rotation\n",
    "img = img.rotate(random.randint(-10,10))\n",
    "#randomly apply to smoothing\n",
    "if random.random() < 0.25:\n",
    "    img = img.filter(ImageFilter.SMOOTH)"
   ]
  },
  {
   "cell_type": "code",
   "execution_count": 61,
   "metadata": {},
   "outputs": [
    {
     "data": {
      "image/png": "[encoded data removed]",
      "text/plain": [
       "<PIL.Image.Image image mode=1 size=32x32 at 0x7F6693BB1F28>"
      ]
     },
     "execution_count": 61,
     "metadata": {},
     "output_type": "execute_result"
    }
   ],
   "source": [
    "img"
   ]
  },
  {
   "cell_type": "code",
   "execution_count": null,
   "metadata": {},
   "outputs": [],
   "source": []
  }
 ],
 "metadata": {
  "kernelspec": {
   "display_name": "Python 3",
   "language": "python",
   "name": "python3"
  },
  "language_info": {
   "codemirror_mode": {
    "name": "ipython",
    "version": 3
   },
   "file_extension": ".py",
   "mimetype": "text/x-python",
   "name": "python",
   "nbconvert_exporter": "python",
   "pygments_lexer": "ipython3",
   "version": "3.6.7"
  }
 },
 "nbformat": 4,
 "nbformat_minor": 2
}
